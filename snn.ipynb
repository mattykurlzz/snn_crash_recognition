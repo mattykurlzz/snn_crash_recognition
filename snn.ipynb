{
 "cells": [
  {
   "cell_type": "code",
   "execution_count": 9,
   "metadata": {},
   "outputs": [],
   "source": [
    "import torch, torch.nn as nn\n",
    "import snntorch as snn\n",
    "from snntorch import surrogate, utils, spikegen\n",
    "from sklearn.preprocessing import RobustScaler, MinMaxScaler, normalize\n",
    "from statistics import mean\n",
    "import matplotlib.pyplot as plt\n",
    "from math import tan, cos, atan, pi, sqrt, radians, degrees\n",
    "from time import sleep"
   ]
  },
  {
   "cell_type": "code",
   "execution_count": 10,
   "metadata": {},
   "outputs": [
    {
     "name": "stdout",
     "output_type": "stream",
     "text": [
      "cuda\n",
      "2.6.0+cu126\n"
     ]
    }
   ],
   "source": [
    "num_steps = 25 # number of time steps\n",
    "batch_size = 1\n",
    "beta = 0.8  # neuron decay rate\n",
    "spike_grad = surrogate.fast_sigmoid() # surrogate gradient\n",
    "\n",
    "device = 'cuda' if torch.cuda.is_available() else 'cpu'\n",
    "print(device)\n",
    "print(torch.__version__)"
   ]
  },
  {
   "cell_type": "markdown",
   "metadata": {},
   "source": [
    "Данные об отдельных объектах представляют собой точки в пространстве. По их динамике нам нужно делать вывод, собираются ли они в нас врезаться. Сначала смоделируем движение одной точки в пространстве. Для этого нужен простенький генератор: считаем, что мы в центре цилиндрической системы координат, рандомим начальное положение точки, после этого с шансом 50/50 решаем, точка будет врезаться в нас или нет. Если нет, то рандомим конечное положение и добавляем промежуточных точек. Если да, то то же, но конечное положение - центр координат. "
   ]
  },
  {
   "cell_type": "code",
   "execution_count": 11,
   "metadata": {},
   "outputs": [],
   "source": [
    "import random\n",
    "import numpy as np\n",
    "camera_pos = {'r' : 0, 'phi' : 0, 'h' : 0}\n",
    "field_depth_m = 20\n",
    "field_height_m = 2\n",
    "fov_deg = 120\n",
    "img_size = (64, 64)"
   ]
  },
  {
   "cell_type": "code",
   "execution_count": 12,
   "metadata": {},
   "outputs": [],
   "source": [
    "from IPython.display import clear_output\n",
    "%matplotlib inline\n",
    "\n",
    "def live_imshow(data, figsize=(7,5), title=''):\n",
    "    clear_output(wait=True)\n",
    "    plt.figure(figsize=figsize)\n",
    "    plt.imshow(data)\n",
    "    plt.title(title)\n",
    "    plt.show()"
   ]
  },
  {
   "cell_type": "code",
   "execution_count": 13,
   "metadata": {},
   "outputs": [],
   "source": [
    "class single_data:\n",
    "    full_circle = 360\n",
    "\n",
    "    def __init__(\n",
    "        self,\n",
    "        field_depth_m,\n",
    "        field_height_m,\n",
    "        fov_deg,\n",
    "        camera_pos: dict,\n",
    "        output_length=50,\n",
    "        camera_size_r=0.5,\n",
    "        camera_size_h=0.5,\n",
    "        time_steps=5,\n",
    "        object_r=0.5,\n",
    "        img_size: tuple = (256, 256),\n",
    "    ):\n",
    "\n",
    "        start_pos = {\n",
    "            \"r\": random.random() * field_depth_m,\n",
    "            \"phi\": random.random() * fov_deg,\n",
    "            \"h\": random.random() * fov_deg,\n",
    "        }\n",
    "\n",
    "        end_pos = {\n",
    "            \"r\": random.random() * field_depth_m,\n",
    "            \"phi\": random.random() * fov_deg,\n",
    "            \"h\": random.random() * fov_deg,\n",
    "        }\n",
    "\n",
    "        flat_sequence = np.array(\n",
    "            [\n",
    "                np.linspace(start=start_pos[\"r\"], stop=end_pos[\"r\"], num=output_length),\n",
    "                np.linspace(\n",
    "                    start=start_pos[\"phi\"], stop=end_pos[\"phi\"], num=output_length\n",
    "                ),\n",
    "                np.linspace(start=start_pos[\"h\"], stop=end_pos[\"h\"], num=output_length),\n",
    "            ]\n",
    "        )\n",
    "        # flat_sequence = normalize(flat_sequence)\n",
    "        flat_sequence = flat_sequence.transpose()\n",
    "\n",
    "        self.position_sequence = torch.tensor(flat_sequence, dtype=torch.float32)\n",
    "\n",
    "        self.generate_image_sequence(field_depth_m, field_height_m, fov_deg, img_size=img_size)\n",
    "\n",
    "    def generate_image_sequence(\n",
    "        self,\n",
    "        field_depth_m,\n",
    "        field_height_m,\n",
    "        fov_deg,\n",
    "        object_r=0.5,\n",
    "        img_size: tuple = (256, 256),\n",
    "    ):\n",
    "        self.image_sequence = []\n",
    "        for timestep in self.position_sequence:\n",
    "            app_matrix = torch.zeros(img_size[0], img_size[1], dtype=torch.float32)\n",
    "\n",
    "            alpha_x = (\n",
    "                radians(timestep[1] - (fov_deg / 2))\n",
    "            )  # угол по горизонтали от центра взгляда в радианах\n",
    "            alpha_x_max = radians(fov_deg / 2)\n",
    "            img_max_x = tan(alpha_x_max) * timestep[0]\n",
    "\n",
    "            alpha_y = (\n",
    "                radians(timestep[2] - (fov_deg / 2))\n",
    "            )  # угол по вертикали от центра взгляда в радианах\n",
    "            alpha_y_max = radians(fov_deg / 2)\n",
    "            img_max_y = tan(alpha_y_max) * timestep[0]\n",
    "\n",
    "            img_x_from_center = (\n",
    "                tan(alpha_x)\n",
    "                * timestep[0]\n",
    "                * cos(abs(alpha_x))\n",
    "                * cos(alpha_y)\n",
    "            )\n",
    "            img_y_from_center = (\n",
    "                tan(alpha_y)\n",
    "                * timestep[0]\n",
    "                * cos(abs(alpha_y))\n",
    "                * cos(alpha_x)\n",
    "            )  #\n",
    "            x_c = torch.round(\n",
    "                (img_x_from_center / img_max_x) * ((img_size[0] - 1) / 2)\n",
    "                + ((img_size[0] - 1) / 2)\n",
    "            )\n",
    "            y_c = torch.round(\n",
    "                (img_y_from_center / img_max_y) * ((img_size[1] - 1) / 2)\n",
    "                + ((img_size[1] - 1) / 2)\n",
    "            )\n",
    "            radius_x = torch.round(\n",
    "                object_r\n",
    "                / (timestep[0] * tan(alpha_x_max))\n",
    "                * img_size[0]\n",
    "            )\n",
    "            radius_y = torch.round(\n",
    "                object_r\n",
    "                / (timestep[0] * tan(alpha_y_max))\n",
    "                * img_size[1]\n",
    "            )\n",
    "            try:\n",
    "                x_c = int(x_c.item())\n",
    "                y_c = int(y_c.item())\n",
    "            except ValueError: \n",
    "                x_c = int(img_size[0] / 2)\n",
    "                y_c = int(img_size[1] / 2)\n",
    "            try: \n",
    "                radius_x = int(radius_x.item())\n",
    "                radius_y = int(radius_y.item())\n",
    "            except OverflowError:\n",
    "                radius_x = img_size[0]\n",
    "                radius_y = img_size[1]\n",
    "\n",
    "            app_matrix[x_c][y_c] = 1\n",
    "            for y in range(-radius_y, radius_y):\n",
    "                cos_rad = sqrt(1 - (y / radius_y) ** 2)\n",
    "                for x in range(-round(radius_x * cos_rad), round(radius_x * cos_rad)):\n",
    "                # for x in range(-radius_x, radius_x):\n",
    "                    if (x_c + x) in range(0, img_size[0]) and (y_c + y) in range(\n",
    "                        0, img_size[1]\n",
    "                    ):\n",
    "                        app_matrix[x_c + x][y_c + y] = 1\n",
    "\n",
    "            self.image_sequence += [app_matrix]\n",
    "        self.image_sequence = torch.stack(self.image_sequence).unsqueeze(1).to(device)"
   ]
  },
  {
   "cell_type": "code",
   "execution_count": 14,
   "metadata": {},
   "outputs": [
    {
     "data": {
      "image/png": "[encoded data removed]",
      "text/plain": [
       "<Figure size 700x500 with 1 Axes>"
      ]
     },
     "metadata": {},
     "output_type": "display_data"
    },
    {
     "name": "stdout",
     "output_type": "stream",
     "text": [
      "torch.Size([25, 1, 128, 128])\n"
     ]
    }
   ],
   "source": [
    "sin_data = single_data(\n",
    "    field_depth_m,\n",
    "    field_height_m,\n",
    "    fov_deg,\n",
    "    camera_pos,\n",
    "    output_length=num_steps,\n",
    "    img_size=(128, 128)\n",
    ")\n",
    "\n",
    "for frame in sin_data.image_sequence:\n",
    "    live_imshow(frame[0].cpu())\n",
    "    sleep(1/12)\n",
    "\n",
    "print(sin_data.image_sequence.shape)"
   ]
  },
  {
   "cell_type": "code",
   "execution_count": 15,
   "metadata": {},
   "outputs": [],
   "source": [
    "def create_training_set(\n",
    "    num_elements: int,\n",
    "    output_length: int,\n",
    "    field_depth_m,\n",
    "    field_height_m,\n",
    "    fov_deg,\n",
    "    camera_pos: dict,\n",
    "):\n",
    "    return [\n",
    "        single_data(\n",
    "            field_depth_m,\n",
    "            field_height_m,\n",
    "            fov_deg,\n",
    "            camera_pos,\n",
    "            output_length=output_length,\n",
    "            img_size=(64, 64),\n",
    "        )\n",
    "        for _ in range(num_elements)\n",
    "    ]"
   ]
  },
  {
   "cell_type": "code",
   "execution_count": 16,
   "metadata": {},
   "outputs": [],
   "source": [
    "class SnnNet(nn.Module):\n",
    "    def __init__(self, img_size):\n",
    "        super(SnnNet, self).__init__()\n",
    "\n",
    "        self.Lin1 = nn.Linear(img_size[0] * img_size[1], img_size[0] * img_size[1])\n",
    "        self.Leaky1 = snn.Leaky(\n",
    "            beta=beta, init_hidden=False, spike_grad=spike_grad, learn_beta=True\n",
    "        )\n",
    "\n",
    "        self.Lin2 = nn.Linear(img_size[0] * img_size[1], img_size[0] * img_size[1])\n",
    "        self.Leaky2 = snn.Leaky(beta=beta, init_hidden=False, spike_grad=spike_grad)\n",
    "\n",
    "        self.Lin3 = nn.Linear(img_size[0] * img_size[1], img_size[0] * img_size[1])\n",
    "        self.Leaky3 = snn.Leaky(beta=beta, init_hidden=False, spike_grad=spike_grad)\n",
    "\n",
    "        self.Lin4 = nn.Linear(img_size[0] * img_size[1], img_size[0] * img_size[1])\n",
    "        self.Leaky4 = snn.Leaky(\n",
    "            beta=beta,\n",
    "            init_hidden=False,\n",
    "            spike_grad=spike_grad,\n",
    "            output=True,\n",
    "            reset_mechanism=\"none\",\n",
    "            learn_beta=True,\n",
    "        )\n",
    "\n",
    "        self.spikeLayers = [\n",
    "            self.Lin1,\n",
    "            self.Leaky1,\n",
    "            self.Lin2,\n",
    "            self.Leaky2,\n",
    "            self.Lin3,\n",
    "            self.Leaky3,\n",
    "        ]\n",
    "\n",
    "    def forward(self, x) -> list:\n",
    "        mem1 = self.Leaky1.reset_mem()\n",
    "        mem2 = self.Leaky2.reset_mem()\n",
    "        mem3 = self.Leaky3.reset_mem()\n",
    "        mem4 = self.Leaky4.reset_mem()\n",
    "\n",
    "        self.spike_mem = []\n",
    "        self.membrane_mem = []\n",
    "\n",
    "        # print(x.shape)\n",
    "        for state in range(x.shape[0]):\n",
    "            out = x[state].flatten()\n",
    "            out = self.Lin1(out)\n",
    "            out, mem1 = self.Leaky1(out, mem1)\n",
    "\n",
    "            out = self.Lin2(out)\n",
    "            out, mem2 = self.Leaky2(out, mem2)\n",
    "\n",
    "            out = self.Lin3(out)\n",
    "            out, mem3 = self.Leaky3(out, mem3)\n",
    "\n",
    "            out = self.Lin4(out)\n",
    "            out, mem4 = self.Leaky4(out, mem4)\n",
    "\n",
    "            self.membrane_mem += [mem4]\n",
    "            self.spike_mem += [out]\n",
    "\n",
    "        self.membrane_mem = torch.stack(self.membrane_mem)\n",
    "        self.spike_mem = torch.stack(self.spike_mem)\n",
    "        return self.spike_mem\n",
    "        # return self.membrane_mem"
   ]
  },
  {
   "cell_type": "code",
   "execution_count": 17,
   "metadata": {},
   "outputs": [],
   "source": [
    "net = SnnNet(img_size=img_size).to(device)"
   ]
  },
  {
   "cell_type": "code",
   "execution_count": 18,
   "metadata": {},
   "outputs": [],
   "source": [
    "def live_imshow(data1, data2, figsize=(7,5), title=''):\n",
    "    clear_output(wait=True)\n",
    "    fig, (ax1, ax2) = plt.subplots(ncols=2, figsize=figsize)\n",
    "    ax1.imshow(data1)\n",
    "    ax2.imshow(data2)\n",
    "    plt.title(title)\n",
    "    plt.show()"
   ]
  },
  {
   "cell_type": "code",
   "execution_count": 19,
   "metadata": {},
   "outputs": [
    {
     "data": {
      "image/png": "[encoded data removed]",
      "text/plain": [
       "<Figure size 1300x1300 with 2 Axes>"
      ]
     },
     "metadata": {},
     "output_type": "display_data"
    }
   ],
   "source": [
    "tens = torch.ones(50, 1, img_size[0], img_size[1]).to(device)\n",
    "images1 = net(tens)\n",
    "\n",
    "tens = single_data(\n",
    "            field_depth_m,\n",
    "            field_height_m,\n",
    "            fov_deg,\n",
    "            camera_pos,\n",
    "            output_length=50,\n",
    "            img_size=img_size,\n",
    "        ).image_sequence.to(device)\n",
    "images2 = net(tens)\n",
    "\n",
    "for (img1, img2) in zip(images1, images2):\n",
    "    live_imshow(\n",
    "        img1.unflatten(0, (64, 64)).cpu().detach().numpy(),\n",
    "        img2.unflatten(0, (64, 64)).cpu().detach().numpy(),\n",
    "        figsize=(13, 13)\n",
    "    )"
   ]
  },
  {
   "cell_type": "code",
   "execution_count": 20,
   "metadata": {},
   "outputs": [],
   "source": [
    "def live_plot_learning(data, figsize=(7,5), title=''):\n",
    "    clear_output(wait=True)\n",
    "    plt.figure(figsize=figsize)\n",
    "    plt.plot(data)\n",
    "    plt.title(title)\n",
    "    plt.grid(True)\n",
    "    plt.xlabel('epoch')\n",
    "    plt.legend(loc='center left') # the plot evolves to the right\n",
    "    plt.show()"
   ]
  },
  {
   "cell_type": "code",
   "execution_count": 21,
   "metadata": {},
   "outputs": [],
   "source": [
    "train_net = create_training_set(500, num_steps, field_depth_m, field_height_m, fov_deg, camera_pos)\n",
    "spike_recording = [] # record spikes over time\n",
    "loss_stats = []\n",
    "\n",
    "\n",
    "criterion = nn.MSELoss()\n",
    "optimizer = torch.optim.Adam(net.parameters(), lr = 0.0005)"
   ]
  },
  {
   "cell_type": "code",
   "execution_count": 22,
   "metadata": {},
   "outputs": [],
   "source": [
    "num_epoch = 200"
   ]
  },
  {
   "cell_type": "code",
   "execution_count": 23,
   "metadata": {},
   "outputs": [
    {
     "name": "stderr",
     "output_type": "stream",
     "text": [
      "No artists with labels found to put in legend.  Note that artists whose label start with an underscore are ignored when legend() is called with no argument.\n"
     ]
    },
    {
     "data": {
      "image/png": "[encoded data removed]",
      "text/plain": [
       "<Figure size 700x500 with 1 Axes>"
      ]
     },
     "metadata": {},
     "output_type": "display_data"
    }
   ],
   "source": [
    "net.train()\n",
    "for epoch in range(num_epoch):\n",
    "    random.shuffle(train_net)\n",
    "    train_iter = iter(train_net)\n",
    "    ep_loss = 0\n",
    "    for i, data in enumerate(train_iter):\n",
    "        target = data.image_sequence[-1][0].flatten()\n",
    "        target[0] = 0\n",
    "\n",
    "        # for j in range(5, len(data.image_sequence)): # loop over time\n",
    "        #     spikes = net(data.image_sequence[0 : j])[-1]\n",
    "        #     loss = criterion(spikes, target)\n",
    "\n",
    "        #     optimizer.zero_grad()\n",
    "        #     loss.backward()\n",
    "        #     optimizer.step()\n",
    "\n",
    "        #     ep_loss += loss.item()\n",
    "        #     live_imshow(\n",
    "        #         spikes.unflatten(0, (64, 64)).cpu().detach().numpy(),\n",
    "        #         target.unflatten(0, (64, 64)).cpu().detach().numpy(),\n",
    "        #         figsize=(13, 13)\n",
    "        #     )\n",
    "        spikes = net(data.image_sequence[0 : -10])[-1]\n",
    "        loss = criterion(spikes, target)\n",
    "\n",
    "        optimizer.zero_grad()\n",
    "        loss.backward()\n",
    "        optimizer.step()\n",
    "\n",
    "        ep_loss += loss.item()\n",
    "        live_imshow(\n",
    "            spikes.unflatten(0, (64, 64)).cpu().detach().numpy(),\n",
    "            target.unflatten(0, (64, 64)).cpu().detach().numpy(),\n",
    "            figsize=(13, 13)\n",
    "        )\n",
    "    print(ep_loss / (i + 1))\n",
    "    loss_stats += [ep_loss / (i + 1)]\n",
    "    live_plot_learning(loss_stats)\n"
   ]
  },
  {
   "cell_type": "code",
   "execution_count": 24,
   "metadata": {},
   "outputs": [],
   "source": [
    "import os\n",
    "torch.save(net.state_dict(), os.path.join('.', 'models', 'snn', 'v1.pt'))"
   ]
  },
  {
   "cell_type": "code",
   "execution_count": 19,
   "metadata": {},
   "outputs": [],
   "source": [
    "train_net = create_training_set(500, num_steps, field_depth_m, field_height_m, fov_deg, camera_pos)"
   ]
  },
  {
   "cell_type": "code",
   "execution_count": 22,
   "metadata": {},
   "outputs": [
    {
     "data": {
      "image/png": "[encoded data removed]",
      "text/plain": [
       "<Figure size 1300x1300 with 2 Axes>"
      ]
     },
     "metadata": {},
     "output_type": "display_data"
    },
    {
     "name": "stdout",
     "output_type": "stream",
     "text": [
      "0.064837890625\n"
     ]
    }
   ],
   "source": [
    "net.eval()\n",
    "random.shuffle(train_net)\n",
    "train_iter = iter(train_net)\n",
    "ep_loss = 0\n",
    "for i, data in enumerate(train_iter):\n",
    "    target = data.image_sequence[-1][0].flatten()\n",
    "    target[0] = 0\n",
    "\n",
    "    spikes = net(data.image_sequence[0 : -10])[-1]\n",
    "    loss = criterion(spikes, target)\n",
    "\n",
    "    ep_loss += loss.item()\n",
    "    live_imshow(\n",
    "        spikes.unflatten(0, (64, 64)).cpu().detach().numpy(),\n",
    "        target.unflatten(0, (64, 64)).cpu().detach().numpy(),\n",
    "        figsize=(13, 13)\n",
    "    )\n",
    "print(ep_loss / (i + 1))\n",
    "    # loss_stats += [ep_loss / (i + 1)]\n"
   ]
  },
  {
   "cell_type": "markdown",
   "metadata": {},
   "source": [
    "Теперь тестируем точность с алгоритмической доработкой: проверяется плотность спайков на выходе и если она превышает 0.5, то будем считать, что авария предсказана вовремя."
   ]
  },
  {
   "cell_type": "code",
   "execution_count": null,
   "metadata": {},
   "outputs": [],
   "source": [
    "def predict_crash(spikes : torch.Tensor):\n",
    "  return 1 if spikes.mean().item() > 0.5 else 0"
   ]
  },
  {
   "cell_type": "code",
   "execution_count": null,
   "metadata": {},
   "outputs": [],
   "source": [
    "random.shuffle(train_net)\n",
    "avg_acc = 0\n",
    "for i, data in enumerate(iter(train_net)):\n",
    "  target = 1 if data.crashes_flag else 0\n",
    "  spike = net(data.position_sequence)\n",
    "  avg_acc += 1 if predict_crash(spike[2:]) == target else 0\n",
    "  print(avg_acc / (i + 1), predict_crash(spike[2:]), target)\n",
    "print(avg_acc / (i + 1))"
   ]
  }
 ],
 "metadata": {
  "kernelspec": {
   "display_name": "Python 3",
   "language": "python",
   "name": "python3"
  },
  "language_info": {
   "codemirror_mode": {
    "name": "ipython",
    "version": 3
   },
   "file_extension": ".py",
   "mimetype": "text/x-python",
   "name": "python",
   "nbconvert_exporter": "python",
   "pygments_lexer": "ipython3",
   "version": "3.11.1"
  }
 },
 "nbformat": 4,
 "nbformat_minor": 2
}
