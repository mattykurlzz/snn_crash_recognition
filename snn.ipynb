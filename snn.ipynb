{
 "cells": [
  {
   "cell_type": "code",
   "execution_count": 345,
   "metadata": {},
   "outputs": [],
   "source": [
    "import torch, torch.nn as nn\n",
    "import snntorch as snn\n",
    "from snntorch import surrogate, utils, spikegen\n",
    "from sklearn.preprocessing import RobustScaler, MinMaxScaler, normalize\n",
    "from statistics import mean\n",
    "import matplotlib.pyplot as plt\n",
    "from math import tan, cos, atan, pi, sqrt, radians, degrees\n",
    "from time import sleep"
   ]
  },
  {
   "cell_type": "code",
   "execution_count": 346,
   "metadata": {},
   "outputs": [],
   "source": [
    "num_steps = 25 # number of time steps\n",
    "batch_size = 1\n",
    "beta = 0.8  # neuron decay rate\n",
    "spike_grad = surrogate.fast_sigmoid() # surrogate gradient"
   ]
  },
  {
   "cell_type": "markdown",
   "metadata": {},
   "source": [
    "Данные об отдельных объектах представляют собой точки в пространстве. По их динамике нам нужно делать вывод, собираются ли они в нас врезаться. Сначала смоделируем движение одной точки в пространстве. Для этого нужен простенький генератор: считаем, что мы в центре цилиндрической системы координат, рандомим начальное положение точки, после этого с шансом 50/50 решаем, точка будет врезаться в нас или нет. Если нет, то рандомим конечное положение и добавляем промежуточных точек. Если да, то то же, но конечное положение - центр координат. "
   ]
  },
  {
   "cell_type": "code",
   "execution_count": 347,
   "metadata": {},
   "outputs": [],
   "source": [
    "import random\n",
    "import numpy as np\n",
    "camera_pos = {'r' : 0, 'phi' : 0, 'h' : 0}\n",
    "field_depth_m = 20\n",
    "field_height_m = 2\n",
    "fov_deg = 120\n",
    "img_size = (64, 64)"
   ]
  },
  {
   "cell_type": "code",
   "execution_count": 348,
   "metadata": {},
   "outputs": [],
   "source": [
    "from IPython.display import clear_output\n",
    "%matplotlib inline\n",
    "\n",
    "def live_imshow(data, figsize=(7,5), title=''):\n",
    "    clear_output(wait=True)\n",
    "    plt.figure(figsize=figsize)\n",
    "    plt.imshow(data)\n",
    "    plt.title(title)\n",
    "    plt.show();"
   ]
  },
  {
   "cell_type": "code",
   "execution_count": 349,
   "metadata": {},
   "outputs": [],
   "source": [
    "class single_data:\n",
    "    full_circle = 360\n",
    "\n",
    "    def __init__(\n",
    "        self,\n",
    "        field_depth_m,\n",
    "        field_height_m,\n",
    "        fov_deg,\n",
    "        camera_pos: dict,\n",
    "        output_length=50,\n",
    "        camera_size_r=0.5,\n",
    "        camera_size_h=0.5,\n",
    "        time_steps=5,\n",
    "        object_r=0.5,\n",
    "        img_size: tuple = (256, 256),\n",
    "    ):\n",
    "\n",
    "        start_pos = {\n",
    "            \"r\": random.random() * field_depth_m,\n",
    "            \"phi\": random.random() * fov_deg,\n",
    "            \"h\": random.random() * fov_deg,\n",
    "        }\n",
    "        if(random.randint(0, 1)):\n",
    "            self.crashes_flag = False\n",
    "            end_pos = {\n",
    "                \"r\": random.random() * field_depth_m,\n",
    "                \"phi\": random.random() * fov_deg,\n",
    "                \"h\": random.random() * fov_deg,\n",
    "            }\n",
    "        else:\n",
    "            self.crashes_flag = True\n",
    "            end_pos = {\n",
    "                \"r\": random.random() * field_depth_m / field_depth_m / 4 ,\n",
    "                \"phi\": random.random() * fov_deg,\n",
    "                \"h\": random.random() * fov_deg,\n",
    "            }\n",
    "\n",
    "        flat_sequence = np.array(\n",
    "            [\n",
    "                np.linspace(start=start_pos[\"r\"], stop=end_pos[\"r\"], num=output_length),\n",
    "                np.linspace(\n",
    "                    start=start_pos[\"phi\"], stop=end_pos[\"phi\"], num=output_length\n",
    "                ),\n",
    "                np.linspace(start=start_pos[\"h\"], stop=end_pos[\"h\"], num=output_length),\n",
    "            ]\n",
    "        )\n",
    "        # flat_sequence = normalize(flat_sequence)\n",
    "        flat_sequence = flat_sequence.transpose()\n",
    "\n",
    "        self.position_sequence = torch.tensor(flat_sequence, dtype=torch.float32)\n",
    "\n",
    "        self.generate_image_sequence(field_depth_m, field_height_m, fov_deg, img_size=img_size)\n",
    "\n",
    "    def generate_image_sequence(\n",
    "        self,\n",
    "        field_depth_m,\n",
    "        field_height_m,\n",
    "        fov_deg,\n",
    "        object_r=0.5,\n",
    "        img_size: tuple = (256, 256),\n",
    "    ):\n",
    "        self.image_sequence = []\n",
    "        for timestep in self.position_sequence:\n",
    "            app_matrix = torch.zeros(img_size[0], img_size[1], dtype=torch.float32)\n",
    "\n",
    "            alpha_x = (\n",
    "                radians(timestep[1] - (fov_deg / 2))\n",
    "            )  # угол по горизонтали от центра взгляда в радианах\n",
    "            alpha_x_max = radians(fov_deg / 2)\n",
    "            img_max_x = tan(alpha_x_max) * timestep[0]\n",
    "\n",
    "            alpha_y = (\n",
    "                radians(timestep[2] - (fov_deg / 2))\n",
    "            )  # угол по вертикали от центра взгляда в радианах\n",
    "            alpha_y_max = radians(fov_deg / 2)\n",
    "            img_max_y = tan(alpha_y_max) * timestep[0]\n",
    "\n",
    "            img_x_from_center = (\n",
    "                tan(alpha_x)\n",
    "                * timestep[0]\n",
    "                * cos(abs(alpha_x))\n",
    "                * cos(alpha_y)\n",
    "            )\n",
    "            img_y_from_center = (\n",
    "                tan(alpha_y)\n",
    "                * timestep[0]\n",
    "                * cos(abs(alpha_y))\n",
    "                * cos(alpha_x)\n",
    "            )  #\n",
    "            x_c = torch.round(\n",
    "                (img_x_from_center / img_max_x) * ((img_size[0] - 1) / 2)\n",
    "                + ((img_size[0] - 1) / 2)\n",
    "            )\n",
    "            y_c = torch.round(\n",
    "                (img_y_from_center / img_max_y) * ((img_size[1] - 1) / 2)\n",
    "                + ((img_size[1] - 1) / 2)\n",
    "            )\n",
    "            radius_x = torch.round(\n",
    "                object_r\n",
    "                / (timestep[0] * tan(alpha_x_max))\n",
    "                * img_size[0]\n",
    "            )\n",
    "            radius_y = torch.round(\n",
    "                object_r\n",
    "                / (timestep[0] * tan(alpha_y_max))\n",
    "                * img_size[1]\n",
    "            )\n",
    "            try:\n",
    "                x_c = int(x_c.item())\n",
    "                y_c = int(y_c.item())\n",
    "            except ValueError: \n",
    "                x_c = int(img_size[0] / 2)\n",
    "                y_c = int(img_size[1] / 2)\n",
    "            try: \n",
    "                radius_x = int(radius_x.item())\n",
    "                radius_y = int(radius_y.item())\n",
    "            except OverflowError:\n",
    "                radius_x = img_size[0]\n",
    "                radius_y = img_size[1]\n",
    "\n",
    "            app_matrix[x_c][y_c] = 1\n",
    "            for y in range(-radius_y, radius_y):\n",
    "                cos_rad = sqrt(1 - (y / radius_y) ** 2)\n",
    "                for x in range(-round(radius_x * cos_rad), round(radius_x * cos_rad)):\n",
    "                # for x in range(-radius_x, radius_x):\n",
    "                    if (x_c + x) in range(0, img_size[0]) and (y_c + y) in range(\n",
    "                        0, img_size[1]\n",
    "                    ):\n",
    "                        app_matrix[x_c + x][y_c + y] = 1\n",
    "\n",
    "            self.image_sequence += [app_matrix]\n",
    "        self.image_sequence = torch.stack(self.image_sequence).unsqueeze(1)"
   ]
  },
  {
   "cell_type": "code",
   "execution_count": 350,
   "metadata": {},
   "outputs": [
    {
     "name": "stdout",
     "output_type": "stream",
     "text": [
      "torch.Size([25, 1, 128, 128])\n"
     ]
    }
   ],
   "source": [
    "sin_data = single_data(\n",
    "    field_depth_m,\n",
    "    field_height_m,\n",
    "    fov_deg,\n",
    "    camera_pos,\n",
    "    output_length=num_steps,\n",
    "    img_size=(128, 128)\n",
    ")\n",
    "\n",
    "# for frame in sin_data.image_sequence:\n",
    "#     live_imshow(frame)\n",
    "#     sleep(1/12)\n",
    "\n",
    "print(sin_data.image_sequence.shape)"
   ]
  },
  {
   "cell_type": "code",
   "execution_count": 351,
   "metadata": {},
   "outputs": [],
   "source": [
    "def create_training_set(\n",
    "    num_elements: int,\n",
    "    output_length: int,\n",
    "    field_depth_m,\n",
    "    field_height_m,\n",
    "    fov_deg,\n",
    "    camera_pos: dict,\n",
    "):\n",
    "    return [\n",
    "        single_data(\n",
    "            field_depth_m,\n",
    "            field_height_m,\n",
    "            fov_deg,\n",
    "            camera_pos,\n",
    "            output_length=output_length,\n",
    "            img_size=(64, 64),\n",
    "        )\n",
    "        for _ in range(num_elements)\n",
    "    ]"
   ]
  },
  {
   "cell_type": "code",
   "execution_count": 352,
   "metadata": {},
   "outputs": [],
   "source": [
    "class SnnNet(nn.Module):\n",
    "    def __init__(self, img_size):\n",
    "        super(SnnNet, self).__init__()\n",
    "\n",
    "        self.Lin1 = nn.Linear(img_size[0] * img_size[1], img_size[0] * img_size[1])\n",
    "        self.Leaky1 = snn.Leaky(\n",
    "            beta=beta, init_hidden=False, spike_grad=spike_grad, learn_beta=True\n",
    "        )\n",
    "\n",
    "        self.Lin2 = nn.Linear(img_size[0] * img_size[1], img_size[0] * img_size[1])\n",
    "        self.Leaky2 = snn.Leaky(beta=beta, init_hidden=False, spike_grad=spike_grad)\n",
    "\n",
    "        self.Lin3 = nn.Linear(img_size[0] * img_size[1], img_size[0] * img_size[1])\n",
    "        self.Leaky3 = snn.Leaky(beta=beta, init_hidden=False, spike_grad=spike_grad)\n",
    "\n",
    "        self.Lin4 = nn.Linear(img_size[0] * img_size[1], img_size[0] * img_size[1])\n",
    "        self.Leaky4 = snn.Leaky(\n",
    "            beta=beta,\n",
    "            init_hidden=False,\n",
    "            spike_grad=spike_grad,\n",
    "            output=True,\n",
    "            reset_mechanism=\"none\",\n",
    "            learn_beta=True,\n",
    "        )\n",
    "\n",
    "        self.spikeLayers = [\n",
    "            self.Lin1,\n",
    "            self.Leaky1,\n",
    "            self.Lin2,\n",
    "            self.Leaky2,\n",
    "            self.Lin3,\n",
    "            self.Leaky3,\n",
    "        ]\n",
    "\n",
    "    def forward(self, x) -> list:\n",
    "        mem1 = self.Leaky1.reset_mem()\n",
    "        mem2 = self.Leaky2.reset_mem()\n",
    "        mem3 = self.Leaky3.reset_mem()\n",
    "        mem4 = self.Leaky4.reset_mem()\n",
    "\n",
    "        self.spike_mem = []\n",
    "        self.membrane_mem = []\n",
    "\n",
    "        # print(x.shape)\n",
    "        for state in range(x.shape[0]):\n",
    "            out = x[state].flatten()\n",
    "            out = self.Lin1(out)\n",
    "            out, mem1 = self.Leaky1(out, mem1)\n",
    "            # out, mem1 = self.Leaky1(x[state], mem1)\n",
    "\n",
    "            # out = self.Lin2(out)\n",
    "            # out, mem2 = self.Leaky2(out, mem2)\n",
    "\n",
    "            # out = self.Lin3(out)\n",
    "            # out, mem3 = self.Leaky3(out, mem3)\n",
    "\n",
    "            out = self.Lin4(out)\n",
    "            out, mem4 = self.Leaky4(out, mem4)\n",
    "\n",
    "            self.membrane_mem += [mem4]\n",
    "            self.spike_mem += [out]\n",
    "\n",
    "        self.membrane_mem = torch.stack(self.membrane_mem)\n",
    "        self.spike_mem = torch.stack(self.spike_mem)\n",
    "        return self.spike_mem\n",
    "        # return self.membrane_mem"
   ]
  },
  {
   "cell_type": "code",
   "execution_count": 353,
   "metadata": {},
   "outputs": [],
   "source": [
    "net = SnnNet(img_size=img_size)"
   ]
  },
  {
   "cell_type": "code",
   "execution_count": 354,
   "metadata": {},
   "outputs": [],
   "source": [
    "def live_imshow(data1, data2, figsize=(7,5), title=''):\n",
    "    clear_output(wait=True)\n",
    "    fig, (ax1, ax2) = plt.subplots(ncols=2, figsize=figsize)\n",
    "    ax1.imshow(data1)\n",
    "    ax2.imshow(data2)\n",
    "    plt.title(title)\n",
    "    plt.show();"
   ]
  },
  {
   "cell_type": "code",
   "execution_count": 363,
   "metadata": {},
   "outputs": [
    {
     "data": {
      "image/png": "[encoded data removed]",
      "text/plain": [
       "<Figure size 1300x1300 with 2 Axes>"
      ]
     },
     "metadata": {},
     "output_type": "display_data"
    }
   ],
   "source": [
    "tens = torch.ones(50, 1, img_size[0], img_size[1])\n",
    "images1 = net(tens)\n",
    "\n",
    "tens = single_data(\n",
    "            field_depth_m,\n",
    "            field_height_m,\n",
    "            fov_deg,\n",
    "            camera_pos,\n",
    "            output_length=50,\n",
    "            img_size=img_size,\n",
    "        ).image_sequence\n",
    "images2 = net(tens)\n",
    "\n",
    "for (img1, img2) in zip(images1, images2):\n",
    "    live_imshow(\n",
    "        img1.unflatten(0, (64, 64)).detach().numpy(),\n",
    "        img2.unflatten(0, (64, 64)).detach().numpy(),\n",
    "        figsize=(13, 13)\n",
    "    )"
   ]
  },
  {
   "cell_type": "code",
   "execution_count": null,
   "metadata": {},
   "outputs": [],
   "source": [
    "def live_plot_learning(data, figsize=(7,5), title=''):\n",
    "    clear_output(wait=True)\n",
    "    plt.figure(figsize=figsize)\n",
    "    plt.plot(data)\n",
    "    plt.title(title)\n",
    "    plt.grid(True)\n",
    "    plt.xlabel('epoch')\n",
    "    plt.legend(loc='center left') # the plot evolves to the right\n",
    "    plt.show()"
   ]
  },
  {
   "cell_type": "code",
   "execution_count": null,
   "metadata": {},
   "outputs": [],
   "source": [
    "train_net = create_training_set(100, num_steps, field_depth_m, field_height_m, fov_deg, camera_pos)\n",
    "spike_recording = [] # record spikes over time\n",
    "loss_stats = []\n",
    "\n",
    "\n",
    "criterion = nn.MSELoss()\n",
    "optimizer = torch.optim.Adam(net.parameters(), lr = 0.001)"
   ]
  },
  {
   "cell_type": "code",
   "execution_count": null,
   "metadata": {},
   "outputs": [],
   "source": [
    "num_epoch = 100"
   ]
  },
  {
   "cell_type": "code",
   "execution_count": 357,
   "metadata": {},
   "outputs": [
    {
     "data": {
      "image/png": "[encoded data removed]",
      "text/plain": [
       "<Figure size 1300x1300 with 2 Axes>"
      ]
     },
     "metadata": {},
     "output_type": "display_data"
    },
    {
     "ename": "KeyboardInterrupt",
     "evalue": "",
     "output_type": "error",
     "traceback": [
      "\u001b[0;31m---------------------------------------------------------------------------\u001b[0m",
      "\u001b[0;31mKeyboardInterrupt\u001b[0m                         Traceback (most recent call last)",
      "Cell \u001b[0;32mIn[357], line 15\u001b[0m\n\u001b[1;32m     12\u001b[0m loss \u001b[38;5;241m=\u001b[39m criterion(spikes, target)\n\u001b[1;32m     14\u001b[0m optimizer\u001b[38;5;241m.\u001b[39mzero_grad()\n\u001b[0;32m---> 15\u001b[0m \u001b[43mloss\u001b[49m\u001b[38;5;241;43m.\u001b[39;49m\u001b[43mbackward\u001b[49m\u001b[43m(\u001b[49m\u001b[43m)\u001b[49m\n\u001b[1;32m     16\u001b[0m optimizer\u001b[38;5;241m.\u001b[39mstep()\n\u001b[1;32m     18\u001b[0m ep_loss \u001b[38;5;241m+\u001b[39m\u001b[38;5;241m=\u001b[39m loss\u001b[38;5;241m.\u001b[39mitem()\n",
      "File \u001b[0;32m~/pyton_notebooks/spiking_crash_recognition/venv/lib/python3.12/site-packages/torch/_tensor.py:626\u001b[0m, in \u001b[0;36mTensor.backward\u001b[0;34m(self, gradient, retain_graph, create_graph, inputs)\u001b[0m\n\u001b[1;32m    616\u001b[0m \u001b[38;5;28;01mif\u001b[39;00m has_torch_function_unary(\u001b[38;5;28mself\u001b[39m):\n\u001b[1;32m    617\u001b[0m     \u001b[38;5;28;01mreturn\u001b[39;00m handle_torch_function(\n\u001b[1;32m    618\u001b[0m         Tensor\u001b[38;5;241m.\u001b[39mbackward,\n\u001b[1;32m    619\u001b[0m         (\u001b[38;5;28mself\u001b[39m,),\n\u001b[0;32m   (...)\u001b[0m\n\u001b[1;32m    624\u001b[0m         inputs\u001b[38;5;241m=\u001b[39minputs,\n\u001b[1;32m    625\u001b[0m     )\n\u001b[0;32m--> 626\u001b[0m \u001b[43mtorch\u001b[49m\u001b[38;5;241;43m.\u001b[39;49m\u001b[43mautograd\u001b[49m\u001b[38;5;241;43m.\u001b[39;49m\u001b[43mbackward\u001b[49m\u001b[43m(\u001b[49m\n\u001b[1;32m    627\u001b[0m \u001b[43m    \u001b[49m\u001b[38;5;28;43mself\u001b[39;49m\u001b[43m,\u001b[49m\u001b[43m \u001b[49m\u001b[43mgradient\u001b[49m\u001b[43m,\u001b[49m\u001b[43m \u001b[49m\u001b[43mretain_graph\u001b[49m\u001b[43m,\u001b[49m\u001b[43m \u001b[49m\u001b[43mcreate_graph\u001b[49m\u001b[43m,\u001b[49m\u001b[43m \u001b[49m\u001b[43minputs\u001b[49m\u001b[38;5;241;43m=\u001b[39;49m\u001b[43minputs\u001b[49m\n\u001b[1;32m    628\u001b[0m \u001b[43m\u001b[49m\u001b[43m)\u001b[49m\n",
      "File \u001b[0;32m~/pyton_notebooks/spiking_crash_recognition/venv/lib/python3.12/site-packages/torch/autograd/__init__.py:347\u001b[0m, in \u001b[0;36mbackward\u001b[0;34m(tensors, grad_tensors, retain_graph, create_graph, grad_variables, inputs)\u001b[0m\n\u001b[1;32m    342\u001b[0m     retain_graph \u001b[38;5;241m=\u001b[39m create_graph\n\u001b[1;32m    344\u001b[0m \u001b[38;5;66;03m# The reason we repeat the same comment below is that\u001b[39;00m\n\u001b[1;32m    345\u001b[0m \u001b[38;5;66;03m# some Python versions print out the first line of a multi-line function\u001b[39;00m\n\u001b[1;32m    346\u001b[0m \u001b[38;5;66;03m# calls in the traceback and some print out the last line\u001b[39;00m\n\u001b[0;32m--> 347\u001b[0m \u001b[43m_engine_run_backward\u001b[49m\u001b[43m(\u001b[49m\n\u001b[1;32m    348\u001b[0m \u001b[43m    \u001b[49m\u001b[43mtensors\u001b[49m\u001b[43m,\u001b[49m\n\u001b[1;32m    349\u001b[0m \u001b[43m    \u001b[49m\u001b[43mgrad_tensors_\u001b[49m\u001b[43m,\u001b[49m\n\u001b[1;32m    350\u001b[0m \u001b[43m    \u001b[49m\u001b[43mretain_graph\u001b[49m\u001b[43m,\u001b[49m\n\u001b[1;32m    351\u001b[0m \u001b[43m    \u001b[49m\u001b[43mcreate_graph\u001b[49m\u001b[43m,\u001b[49m\n\u001b[1;32m    352\u001b[0m \u001b[43m    \u001b[49m\u001b[43minputs\u001b[49m\u001b[43m,\u001b[49m\n\u001b[1;32m    353\u001b[0m \u001b[43m    \u001b[49m\u001b[43mallow_unreachable\u001b[49m\u001b[38;5;241;43m=\u001b[39;49m\u001b[38;5;28;43;01mTrue\u001b[39;49;00m\u001b[43m,\u001b[49m\n\u001b[1;32m    354\u001b[0m \u001b[43m    \u001b[49m\u001b[43maccumulate_grad\u001b[49m\u001b[38;5;241;43m=\u001b[39;49m\u001b[38;5;28;43;01mTrue\u001b[39;49;00m\u001b[43m,\u001b[49m\n\u001b[1;32m    355\u001b[0m \u001b[43m\u001b[49m\u001b[43m)\u001b[49m\n",
      "File \u001b[0;32m~/pyton_notebooks/spiking_crash_recognition/venv/lib/python3.12/site-packages/torch/autograd/graph.py:823\u001b[0m, in \u001b[0;36m_engine_run_backward\u001b[0;34m(t_outputs, *args, **kwargs)\u001b[0m\n\u001b[1;32m    821\u001b[0m     unregister_hooks \u001b[38;5;241m=\u001b[39m _register_logging_hooks_on_whole_graph(t_outputs)\n\u001b[1;32m    822\u001b[0m \u001b[38;5;28;01mtry\u001b[39;00m:\n\u001b[0;32m--> 823\u001b[0m     \u001b[38;5;28;01mreturn\u001b[39;00m \u001b[43mVariable\u001b[49m\u001b[38;5;241;43m.\u001b[39;49m\u001b[43m_execution_engine\u001b[49m\u001b[38;5;241;43m.\u001b[39;49m\u001b[43mrun_backward\u001b[49m\u001b[43m(\u001b[49m\u001b[43m  \u001b[49m\u001b[38;5;66;43;03m# Calls into the C++ engine to run the backward pass\u001b[39;49;00m\n\u001b[1;32m    824\u001b[0m \u001b[43m        \u001b[49m\u001b[43mt_outputs\u001b[49m\u001b[43m,\u001b[49m\u001b[43m \u001b[49m\u001b[38;5;241;43m*\u001b[39;49m\u001b[43margs\u001b[49m\u001b[43m,\u001b[49m\u001b[43m \u001b[49m\u001b[38;5;241;43m*\u001b[39;49m\u001b[38;5;241;43m*\u001b[39;49m\u001b[43mkwargs\u001b[49m\n\u001b[1;32m    825\u001b[0m \u001b[43m    \u001b[49m\u001b[43m)\u001b[49m  \u001b[38;5;66;03m# Calls into the C++ engine to run the backward pass\u001b[39;00m\n\u001b[1;32m    826\u001b[0m \u001b[38;5;28;01mfinally\u001b[39;00m:\n\u001b[1;32m    827\u001b[0m     \u001b[38;5;28;01mif\u001b[39;00m attach_logging_hooks:\n",
      "File \u001b[0;32m~/pyton_notebooks/spiking_crash_recognition/venv/lib/python3.12/site-packages/torch/autograd/function.py:292\u001b[0m, in \u001b[0;36mBackwardCFunction.apply\u001b[0;34m(self, *args)\u001b[0m\n\u001b[1;32m    287\u001b[0m \u001b[38;5;28;01mclass\u001b[39;00m\u001b[38;5;250m \u001b[39m\u001b[38;5;21;01mBackwardCFunction\u001b[39;00m(_C\u001b[38;5;241m.\u001b[39m_FunctionBase, FunctionCtx, _HookMixin):\n\u001b[1;32m    288\u001b[0m \u001b[38;5;250m    \u001b[39m\u001b[38;5;124mr\u001b[39m\u001b[38;5;124;03m\"\"\"\u001b[39;00m\n\u001b[1;32m    289\u001b[0m \u001b[38;5;124;03m    This class is used for internal autograd work. Do not use.\u001b[39;00m\n\u001b[1;32m    290\u001b[0m \u001b[38;5;124;03m    \"\"\"\u001b[39;00m\n\u001b[0;32m--> 292\u001b[0m     \u001b[38;5;28;01mdef\u001b[39;00m\u001b[38;5;250m \u001b[39m\u001b[38;5;21mapply\u001b[39m(\u001b[38;5;28mself\u001b[39m, \u001b[38;5;241m*\u001b[39margs):\n\u001b[1;32m    293\u001b[0m \u001b[38;5;250m        \u001b[39m\u001b[38;5;124mr\u001b[39m\u001b[38;5;124;03m\"\"\"\u001b[39;00m\n\u001b[1;32m    294\u001b[0m \u001b[38;5;124;03m        Apply method used when executing this Node during the backward\u001b[39;00m\n\u001b[1;32m    295\u001b[0m \u001b[38;5;124;03m        \"\"\"\u001b[39;00m\n\u001b[1;32m    296\u001b[0m         \u001b[38;5;66;03m# _forward_cls is defined by derived class\u001b[39;00m\n\u001b[1;32m    297\u001b[0m         \u001b[38;5;66;03m# The user should define either backward or vjp but never both.\u001b[39;00m\n",
      "\u001b[0;31mKeyboardInterrupt\u001b[0m: "
     ]
    }
   ],
   "source": [
    "net.train()\n",
    "for epoch in range(num_epoch):\n",
    "    random.shuffle(train_net)\n",
    "    train_iter = iter(train_net)\n",
    "    ep_loss = 0\n",
    "    for i, data in enumerate(train_iter):\n",
    "        target = data.image_sequence[-1][0].flatten()\n",
    "        target[0] = 0\n",
    "\n",
    "        for j in range(2, len(data.image_sequence)): # loop over time\n",
    "            spikes = net(data.image_sequence[0 : j])[-1]\n",
    "            loss = criterion(spikes, target)\n",
    "\n",
    "            optimizer.zero_grad()\n",
    "            loss.backward()\n",
    "            optimizer.step()\n",
    "\n",
    "            ep_loss += loss.item()\n",
    "            live_imshow(\n",
    "                spikes.unflatten(0, (64, 64)).detach().numpy(),\n",
    "                target.unflatten(0, (64, 64)).detach().numpy(),\n",
    "                figsize=(13, 13)\n",
    "            )\n",
    "\n",
    "    print(ep_loss / (i * j + 1))\n",
    "    loss_stats += [ep_loss / (i * j + 1)]\n",
    "    live_plot_learning(loss_stats)\n"
   ]
  },
  {
   "cell_type": "code",
   "execution_count": null,
   "metadata": {},
   "outputs": [],
   "source": [
    "def calc_err(spikes : list, target : int):\n",
    "  cntr = 0\n",
    "  for spike in spikes: \n",
    "    if spike.item() == target: cntr += 1\n",
    "  return cntr / len(spikes)\n",
    "\n",
    "net.eval()\n",
    "random.shuffle(train_net)\n",
    "avg_err = 0\n",
    "for i, data in enumerate(iter(train_net)):\n",
    "  target = torch.tensor([1 if data.crashes_flag else 0], dtype=torch.float32)\n",
    "  loss = torch.zeros(1, dtype=torch.float32, device='cpu')\n",
    "  spike = net(data.position_sequence)\n",
    "  for step in spike[2:]: # loop over time\n",
    "    # spike_recording.append(spike.item()) # record spikes in list\n",
    "    loss += criterion(step, target)\n",
    "    # loss_val += loss.item()\n",
    "  avg_err += calc_err(spike[2:], target.item())\n",
    "  print(calc_err(spike[2:], target.item()), spike.mean().item(), target.item())\n",
    "print(avg_err / i)"
   ]
  },
  {
   "cell_type": "markdown",
   "metadata": {},
   "source": [
    "Теперь тестируем точность с алгоритмической доработкой: проверяется плотность спайков на выходе и если она превышает 0.5, то будем считать, что авария предсказана вовремя."
   ]
  },
  {
   "cell_type": "code",
   "execution_count": null,
   "metadata": {},
   "outputs": [],
   "source": [
    "def predict_crash(spikes : torch.Tensor):\n",
    "  return 1 if spikes.mean().item() > 0.5 else 0"
   ]
  },
  {
   "cell_type": "code",
   "execution_count": null,
   "metadata": {},
   "outputs": [],
   "source": [
    "random.shuffle(train_net)\n",
    "avg_acc = 0\n",
    "for i, data in enumerate(iter(train_net)):\n",
    "  target = 1 if data.crashes_flag else 0\n",
    "  spike = net(data.position_sequence)\n",
    "  avg_acc += 1 if predict_crash(spike[2:]) == target else 0\n",
    "  print(avg_acc / (i + 1), predict_crash(spike[2:]), target)\n",
    "print(avg_acc / (i + 1))"
   ]
  }
 ],
 "metadata": {
  "kernelspec": {
   "display_name": "venv",
   "language": "python",
   "name": "python3"
  },
  "language_info": {
   "codemirror_mode": {
    "name": "ipython",
    "version": 3
   },
   "file_extension": ".py",
   "mimetype": "text/x-python",
   "name": "python",
   "nbconvert_exporter": "python",
   "pygments_lexer": "ipython3",
   "version": "3.12.3"
  }
 },
 "nbformat": 4,
 "nbformat_minor": 2
}
